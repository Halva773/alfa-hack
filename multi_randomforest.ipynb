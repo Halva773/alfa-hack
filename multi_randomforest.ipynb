{
 "cells": [
  {
   "cell_type": "code",
   "execution_count": 1,
   "id": "461bdbf3",
   "metadata": {},
   "outputs": [],
   "source": [
    "import pandas as pd\n",
    "import numpy as np\n",
    "from sklearn.model_selection import train_test_split\n",
    "from sklearn.ensemble import RandomForestClassifier\n",
    "from sklearn.metrics import accuracy_score"
   ]
  },
  {
   "cell_type": "code",
   "execution_count": null,
   "id": "e3d73f94",
   "metadata": {},
   "outputs": [],
   "source": [
    "# Считываем данные из файла\n",
    "df = pd.read_parquet(\"Задание/train_data.pqt\")\n",
    "\n",
    "# Выбираем метрики для модели\n",
    "col = ['balance_amt_avg', 'channel_code', 'city_type', 'ogrn_month', 'ogrn_year', 'ft_registration_date', 'max_founderpres', 'okved', 'segment', 'sum_of_paym_2m', 'sum_of_paym_1y', 'sum_a_oper_3m', 'sum_c_oper_3m', 'sum_cred_e_oper_3m', 'sum_cred_g_oper_3m', 'sum_cred_h_oper_3m', 'start_cluster']\n",
    "# col = ['start_cluster'] # Тестовая (чем меньше метрик, тем быстрее модель)\n",
    "\n",
    "# Приводим данные к числовому виду\n",
    "X = pd.DataFrame()\n",
    "for i in col:\n",
    "    if df[i].dtype.name != 'object':\n",
    "        X[i]=df[i].copy()\n",
    "        X.loc[X[i].isna(), i]=X[i].median()\n",
    "    else:\n",
    "        X[i]=pd.factorize(df[i])[0]\n",
    "\n",
    "# Разделяем данные на признаки (X) и целевую переменную (y)\n",
    "y = df['end_cluster']  # целевая переменная\n",
    "\n",
    "# Разделяем данные на обучающую и тестовую выборки\n",
    "X_train, X_test, y_train, y_test = train_test_split(X, y, test_size=0.2, random_state=42)\n",
    "\n",
    "# Создаем и Обучаем модель случайного леса\n",
    "model = RandomForestClassifier(n_estimators=100, random_state=42)\n",
    "model.fit(X_train, y_train)\n",
    "\n",
    "#Считаем значимость метрик\n",
    "importances = model.feature_importances_\n",
    "indices = np.argsort(importances)[::-1]\n",
    "ar_f=[]\n",
    "for f, idx in enumerate(indices):\n",
    "    ar_f.append([round(importances[idx],4), col[idx]])\n",
    "ar_f.sort(reverse=True)\n",
    "for i in ar_f:\n",
    "    print(i)\n",
    "\n",
    "# Предсказываем значения на тестовой выборке\n",
    "y_pred = model.predict(X_test)\n",
    "\n",
    "# Оцениваем качество модели\n",
    "accuracy = accuracy_score(y_test, y_pred)\n",
    "print(\"Accuracy:\", accuracy)\n",
    "\n",
    "\n",
    "\n",
    "\n",
    "# Считываем данные из тестовой метрики\n",
    "test_df = pd.read_parquet(\"Задание/test_data.pqt\")\n",
    "\n",
    "# Преобразовываем тестовую таблицу к численным значениям\n",
    "X = pd.DataFrame()\n",
    "for i in col:\n",
    "    if test_df[i].dtype.name != 'object':\n",
    "        X[i]=test_df[i].copy()\n",
    "        X.loc[X[i].isna(), i]=X[i].median()\n",
    "    else:\n",
    "        X[i]=pd.factorize(test_df[i])[0]\n",
    "\n",
    "# Предсказываем значения\n",
    "model.predict(X)\n",
    "test_probabilities = model.predict_proba(X)\n",
    "\n",
    "test_probabilities"
   ]
  },
  {
   "cell_type": "code",
   "execution_count": null,
   "id": "26f1fac7",
   "metadata": {},
   "outputs": [],
   "source": [
    "test_df.id.unique()"
   ]
  },
  {
   "cell_type": "code",
   "execution_count": null,
   "id": "22d9fc07",
   "metadata": {},
   "outputs": [],
   "source": [
    "# Создание DataFrame с вероятностями перехода в каждый кластер для каждой строчки\n",
    "cluster_probabilities_df = pd.DataFrame(test_probabilities, columns=model.classes_)\n",
    "\n",
    "# Добавление целевой переменной к DataFrame с вероятностями\n",
    "# cluster_probabilities_df['end_cluster'] = y_test.values\n",
    "cluster_probabilities_df.index = test_df['id']\n",
    "cluster_probabilities_df\n",
    "# probabilities = model.predict_proba(X_test)"
   ]
  },
  {
   "cell_type": "code",
   "execution_count": null,
   "id": "3f8766bd",
   "metadata": {},
   "outputs": [],
   "source": [
    "cluster_probabilities_df.to_csv('results/sample_submission.csv', delimetr=',')"
   ]
  }
 ],
 "metadata": {
  "kernelspec": {
   "display_name": "Python 3",
   "language": "python",
   "name": "python3"
  },
  "language_info": {
   "codemirror_mode": {
    "name": "ipython",
    "version": 3
   },
   "file_extension": ".py",
   "mimetype": "text/x-python",
   "name": "python",
   "nbconvert_exporter": "python",
   "pygments_lexer": "ipython3",
   "version": "3.11.5"
  }
 },
 "nbformat": 4,
 "nbformat_minor": 5
}

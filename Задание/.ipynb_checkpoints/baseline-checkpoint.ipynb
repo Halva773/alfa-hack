{
 "cells": [
  {
   "cell_type": "markdown",
   "id": "8b7bef09-9e86-4b19-bbb7-e0ccb7515328",
   "metadata": {
    "execution": {
     "iopub.execute_input": "2024-02-14T22:50:38.627643Z",
     "iopub.status.busy": "2024-02-14T22:50:38.627255Z",
     "iopub.status.idle": "2024-02-14T22:50:39.496067Z",
     "shell.execute_reply": "2024-02-14T22:50:39.495215Z",
     "shell.execute_reply.started": "2024-02-14T22:50:38.627616Z"
    },
    "id": "8b7bef09-9e86-4b19-bbb7-e0ccb7515328",
    "tags": []
   },
   "source": [
    "# Baseline"
   ]
  },
  {
   "cell_type": "code",
   "execution_count": 1,
   "id": "e0ddb399-18f4-4051-86c0-39f1c623eef5",
   "metadata": {
    "execution": {
     "iopub.execute_input": "2024-02-15T11:34:39.109032Z",
     "iopub.status.busy": "2024-02-15T11:34:39.108624Z",
     "iopub.status.idle": "2024-02-15T11:34:39.955360Z",
     "shell.execute_reply": "2024-02-15T11:34:39.954584Z",
     "shell.execute_reply.started": "2024-02-15T11:34:39.109007Z"
    },
    "id": "e0ddb399-18f4-4051-86c0-39f1c623eef5",
    "tags": []
   },
   "outputs": [
    {
     "ename": "ModuleNotFoundError",
     "evalue": "No module named 'lightgbm'",
     "output_type": "error",
     "traceback": [
      "\u001b[1;31m---------------------------------------------------------------------------\u001b[0m",
      "\u001b[1;31mModuleNotFoundError\u001b[0m                       Traceback (most recent call last)",
      "Cell \u001b[1;32mIn[1], line 5\u001b[0m\n\u001b[0;32m      3\u001b[0m \u001b[38;5;28;01mfrom\u001b[39;00m \u001b[38;5;21;01msklearn\u001b[39;00m\u001b[38;5;21;01m.\u001b[39;00m\u001b[38;5;21;01mmetrics\u001b[39;00m \u001b[38;5;28;01mimport\u001b[39;00m roc_auc_score\n\u001b[0;32m      4\u001b[0m \u001b[38;5;28;01mfrom\u001b[39;00m \u001b[38;5;21;01msklearn\u001b[39;00m\u001b[38;5;21;01m.\u001b[39;00m\u001b[38;5;21;01mmodel_selection\u001b[39;00m \u001b[38;5;28;01mimport\u001b[39;00m train_test_split\n\u001b[1;32m----> 5\u001b[0m \u001b[38;5;28;01mfrom\u001b[39;00m \u001b[38;5;21;01mlightgbm\u001b[39;00m \u001b[38;5;28;01mimport\u001b[39;00m LGBMClassifier\n",
      "\u001b[1;31mModuleNotFoundError\u001b[0m: No module named 'lightgbm'"
     ]
    }
   ],
   "source": [
    "import numpy as np\n",
    "import pandas as pd\n",
    "from sklearn.metrics import roc_auc_score\n",
    "from sklearn.model_selection import train_test_split\n",
    "from lightgbm import LGBMClassifier"
   ]
  },
  {
   "cell_type": "code",
   "execution_count": null,
   "id": "WremRMspEMJA",
   "metadata": {
    "colab": {
     "base_uri": "https://localhost:8080/"
    },
    "id": "WremRMspEMJA",
    "outputId": "6842e845-8079-4b49-d71e-01a31d47b1e8"
   },
   "outputs": [],
   "source": [
    "!pip freeze | grep \"numpy\\|pandas\\|lightgbm\\|scikit-learn\""
   ]
  },
  {
   "cell_type": "markdown",
   "id": "cbcf3aae-5417-42a3-9ed2-818b9aef0f2f",
   "metadata": {
    "id": "cbcf3aae-5417-42a3-9ed2-818b9aef0f2f"
   },
   "source": [
    "## Загрузка данных"
   ]
  },
  {
   "cell_type": "code",
   "execution_count": null,
   "id": "32c8b1b0-f95e-4cb5-bbc1-c0edb76568c1",
   "metadata": {
    "execution": {
     "iopub.execute_input": "2024-02-15T11:34:44.750723Z",
     "iopub.status.busy": "2024-02-15T11:34:44.750145Z",
     "iopub.status.idle": "2024-02-15T11:34:46.098228Z",
     "shell.execute_reply": "2024-02-15T11:34:46.097494Z",
     "shell.execute_reply.started": "2024-02-15T11:34:44.750694Z"
    },
    "id": "32c8b1b0-f95e-4cb5-bbc1-c0edb76568c1",
    "tags": []
   },
   "outputs": [],
   "source": [
    "train_df = pd.read_parquet(\"train_data.pqt\")\n",
    "test_df = pd.read_parquet(\"test_data.pqt\")"
   ]
  },
  {
   "cell_type": "code",
   "execution_count": null,
   "id": "8caad423-0805-4b57-9d02-8ae203be2e65",
   "metadata": {
    "colab": {
     "base_uri": "https://localhost:8080/",
     "height": 193
    },
    "execution": {
     "iopub.execute_input": "2024-02-14T23:09:54.192532Z",
     "iopub.status.busy": "2024-02-14T23:09:54.192285Z",
     "iopub.status.idle": "2024-02-14T23:09:54.214362Z",
     "shell.execute_reply": "2024-02-14T23:09:54.213854Z",
     "shell.execute_reply.started": "2024-02-14T23:09:54.192509Z"
    },
    "id": "8caad423-0805-4b57-9d02-8ae203be2e65",
    "outputId": "824bb6af-08be-4561-881b-3c3572e6bcdb",
    "tags": []
   },
   "outputs": [],
   "source": [
    "train_df.head(3)"
   ]
  },
  {
   "cell_type": "code",
   "execution_count": null,
   "id": "97d5280f-33cc-4966-a1cd-c80c7022d1aa",
   "metadata": {
    "colab": {
     "base_uri": "https://localhost:8080/",
     "height": 193
    },
    "execution": {
     "iopub.execute_input": "2024-02-14T23:09:54.216152Z",
     "iopub.status.busy": "2024-02-14T23:09:54.215898Z",
     "iopub.status.idle": "2024-02-14T23:09:54.231329Z",
     "shell.execute_reply": "2024-02-14T23:09:54.230822Z",
     "shell.execute_reply.started": "2024-02-14T23:09:54.216133Z"
    },
    "id": "97d5280f-33cc-4966-a1cd-c80c7022d1aa",
    "outputId": "03a6b076-ac01-45fe-cfbb-492ab97a1755",
    "tags": []
   },
   "outputs": [],
   "source": [
    "test_df.head(3)"
   ]
  },
  {
   "cell_type": "code",
   "execution_count": null,
   "id": "a63cea2a",
   "metadata": {},
   "outputs": [],
   "source": [
    "train_df.shape, test_df.shape"
   ]
  },
  {
   "cell_type": "code",
   "execution_count": null,
   "id": "05a1edfe-fcca-4945-a00d-c0b1627d1718",
   "metadata": {
    "execution": {
     "iopub.execute_input": "2024-02-14T23:09:54.232295Z",
     "iopub.status.busy": "2024-02-14T23:09:54.232055Z",
     "iopub.status.idle": "2024-02-14T23:09:54.256480Z",
     "shell.execute_reply": "2024-02-14T23:09:54.255966Z",
     "shell.execute_reply.started": "2024-02-14T23:09:54.232276Z"
    },
    "id": "05a1edfe-fcca-4945-a00d-c0b1627d1718",
    "tags": []
   },
   "outputs": [],
   "source": [
    "cat_cols = [\n",
    "    \"channel_code\", \"city\", \"city_type\",\n",
    "    \"okved\", \"segment\", \"start_cluster\",\n",
    "    \"index_city_code\", \"ogrn_month\", \"ogrn_year\",\n",
    "]"
   ]
  },
  {
   "cell_type": "markdown",
   "id": "DCN4DEaNqjr2",
   "metadata": {
    "id": "DCN4DEaNqjr2"
   },
   "source": [
    "Обозначение категориальных признаков"
   ]
  },
  {
   "cell_type": "code",
   "execution_count": null,
   "id": "198295f2-78b7-41a0-b0fe-490de972beaf",
   "metadata": {
    "execution": {
     "iopub.execute_input": "2024-02-14T23:09:54.257396Z",
     "iopub.status.busy": "2024-02-14T23:09:54.257163Z",
     "iopub.status.idle": "2024-02-14T23:09:54.777051Z",
     "shell.execute_reply": "2024-02-14T23:09:54.776272Z",
     "shell.execute_reply.started": "2024-02-14T23:09:54.257375Z"
    },
    "id": "198295f2-78b7-41a0-b0fe-490de972beaf",
    "tags": []
   },
   "outputs": [],
   "source": [
    "train_df[cat_cols] = train_df[cat_cols].astype(\"category\")\n",
    "test_df[cat_cols] = test_df[cat_cols].astype(\"category\")"
   ]
  },
  {
   "cell_type": "markdown",
   "id": "50RNyCgPtl6n",
   "metadata": {
    "id": "50RNyCgPtl6n"
   },
   "source": [
    "Создаем выборки для валидации и обучения"
   ]
  },
  {
   "cell_type": "code",
   "execution_count": null,
   "id": "2c0edf39-d716-48ca-a66c-936871ee5918",
   "metadata": {
    "execution": {
     "iopub.execute_input": "2024-02-14T23:09:54.944960Z",
     "iopub.status.busy": "2024-02-14T23:09:54.944681Z",
     "iopub.status.idle": "2024-02-14T23:09:55.555948Z",
     "shell.execute_reply": "2024-02-14T23:09:55.554535Z",
     "shell.execute_reply.started": "2024-02-14T23:09:54.944939Z"
    },
    "id": "2c0edf39-d716-48ca-a66c-936871ee5918",
    "tags": []
   },
   "outputs": [],
   "source": [
    "X = train_df.drop([\"id\", \"date\", \"end_cluster\"], axis=1)\n",
    "y = train_df[\"end_cluster\"]\n",
    "\n",
    "x_train, x_val, y_train, y_val = train_test_split(X, y,\n",
    "                                                  test_size=0.2,\n",
    "                                                  random_state=42)"
   ]
  },
  {
   "cell_type": "code",
   "execution_count": null,
   "id": "7ffec14d",
   "metadata": {},
   "outputs": [],
   "source": [
    "x_train"
   ]
  },
  {
   "cell_type": "markdown",
   "id": "vkyL_GYgNMCL",
   "metadata": {
    "id": "vkyL_GYgNMCL"
   },
   "source": [
    "## Обучение модели"
   ]
  },
  {
   "cell_type": "markdown",
   "id": "nsiLHOP3tyLs",
   "metadata": {
    "id": "nsiLHOP3tyLs"
   },
   "source": [
    "В качестве базовой модели возьмем LGBM обучим на всех признаках"
   ]
  },
  {
   "cell_type": "code",
   "execution_count": null,
   "id": "6badd1b7-0155-4c85-859d-f075800ede6e",
   "metadata": {
    "colab": {
     "base_uri": "https://localhost:8080/",
     "height": 74
    },
    "execution": {
     "iopub.execute_input": "2024-02-14T23:09:55.557916Z",
     "iopub.status.busy": "2024-02-14T23:09:55.557642Z",
     "iopub.status.idle": "2024-02-14T23:09:55.562656Z",
     "shell.execute_reply": "2024-02-14T23:09:55.562029Z",
     "shell.execute_reply.started": "2024-02-14T23:09:55.557878Z"
    },
    "id": "6badd1b7-0155-4c85-859d-f075800ede6e",
    "outputId": "9e5fde0f-da28-40a8-984a-f7bf1a94c82d",
    "tags": []
   },
   "outputs": [],
   "source": [
    "model = LGBMClassifier(verbosity=-1, random_state=42, n_jobs=-1)\n",
    "model.fit(x_train, y_train)"
   ]
  },
  {
   "cell_type": "markdown",
   "id": "in4jAC8SIbIk",
   "metadata": {
    "id": "in4jAC8SIbIk"
   },
   "source": [
    "Зададим функцию для взвешенной метрики roc auc"
   ]
  },
  {
   "cell_type": "code",
   "execution_count": null,
   "id": "WxsjOsocI0Kq",
   "metadata": {
    "id": "WxsjOsocI0Kq"
   },
   "outputs": [],
   "source": [
    "def weighted_roc_auc(y_true, y_pred, labels, weights_dict):\n",
    "    unnorm_weights = np.array([weights_dict[label] for label in labels])\n",
    "    weights = unnorm_weights / unnorm_weights.sum()\n",
    "    classes_roc_auc = roc_auc_score(y_true, y_pred, labels=labels,\n",
    "                                    multi_class=\"ovr\", average=None)\n",
    "    return sum(weights * classes_roc_auc)"
   ]
  },
  {
   "cell_type": "code",
   "execution_count": null,
   "id": "dNp4RlkbJmqE",
   "metadata": {
    "id": "dNp4RlkbJmqE"
   },
   "outputs": [],
   "source": [
    "cluster_weights = pd.read_excel(\"cluster_weights.xlsx\").set_index(\"cluster\")\n",
    "weights_dict = cluster_weights[\"unnorm_weight\"].to_dict()"
   ]
  },
  {
   "cell_type": "markdown",
   "id": "882N_MniJeLl",
   "metadata": {
    "id": "882N_MniJeLl"
   },
   "source": [
    "Проверка работы модели"
   ]
  },
  {
   "cell_type": "code",
   "execution_count": null,
   "id": "BAGzrwjowH8q",
   "metadata": {
    "colab": {
     "base_uri": "https://localhost:8080/"
    },
    "id": "BAGzrwjowH8q",
    "outputId": "214ab219-a97a-4def-9ba7-9be171908749"
   },
   "outputs": [],
   "source": [
    "y_pred_proba = model.predict_proba(x_val)\n",
    "y_pred_proba.shape"
   ]
  },
  {
   "cell_type": "code",
   "execution_count": null,
   "id": "_-grylzULhLv",
   "metadata": {
    "colab": {
     "base_uri": "https://localhost:8080/"
    },
    "id": "_-grylzULhLv",
    "outputId": "a5cb186c-dd42-4f6e-c796-f0e5459a0fb0"
   },
   "outputs": [],
   "source": [
    "weighted_roc_auc(y_val, y_pred_proba, model.classes_, weights_dict)"
   ]
  },
  {
   "cell_type": "markdown",
   "id": "cfLFjyYHNTE4",
   "metadata": {
    "id": "cfLFjyYHNTE4"
   },
   "source": [
    "## Прогноз на тестовой выборке"
   ]
  },
  {
   "cell_type": "code",
   "execution_count": null,
   "id": "pUpqu4ueNdTO",
   "metadata": {
    "colab": {
     "base_uri": "https://localhost:8080/",
     "height": 175
    },
    "id": "pUpqu4ueNdTO",
    "outputId": "70b06bc1-8126-4d53-9d31-2d09078d74ce"
   },
   "outputs": [],
   "source": [
    "test_df.pivot(index=\"id\", columns=\"date\", values=\"start_cluster\").head(3)"
   ]
  },
  {
   "cell_type": "markdown",
   "id": "D7hcKFpa042B",
   "metadata": {
    "id": "D7hcKFpa042B"
   },
   "source": [
    "Для того, чтобы сделать прогноз на тестовой выборке, нужно заполнить стартовый кластер. </br>\n",
    "В качестве базового подхода заполним все стартовые кластеры, самым популярным кластером."
   ]
  },
  {
   "cell_type": "code",
   "execution_count": null,
   "id": "FbOyX_FJN8k6",
   "metadata": {
    "id": "FbOyX_FJN8k6"
   },
   "outputs": [],
   "source": [
    "test_df[\"start_cluster\"] = train_df[\"start_cluster\"].mode()[0]\n",
    "test_df[\"start_cluster\"] = test_df[\"start_cluster\"].astype(\"category\")"
   ]
  },
  {
   "cell_type": "code",
   "execution_count": null,
   "id": "efc8b64a-86db-4564-af7b-be649612df82",
   "metadata": {
    "execution": {
     "iopub.execute_input": "2024-02-15T11:36:12.303553Z",
     "iopub.status.busy": "2024-02-15T11:36:12.302964Z",
     "iopub.status.idle": "2024-02-15T11:36:12.337469Z",
     "shell.execute_reply": "2024-02-15T11:36:12.336438Z",
     "shell.execute_reply.started": "2024-02-15T11:36:12.303513Z"
    },
    "id": "efc8b64a-86db-4564-af7b-be649612df82",
    "tags": []
   },
   "outputs": [],
   "source": [
    "sample_submission_df = pd.read_csv(\"sample_submission.csv\")"
   ]
  },
  {
   "cell_type": "code",
   "execution_count": null,
   "id": "pnVPYVJNUi1f",
   "metadata": {
    "colab": {
     "base_uri": "https://localhost:8080/"
    },
    "id": "pnVPYVJNUi1f",
    "outputId": "b9233f45-64fc-4795-b7a0-b0eda8ec3609"
   },
   "outputs": [],
   "source": [
    "sample_submission_df.shape"
   ]
  },
  {
   "cell_type": "code",
   "execution_count": null,
   "id": "89face90-d187-4885-a695-12fbf7d87541",
   "metadata": {
    "colab": {
     "base_uri": "https://localhost:8080/",
     "height": 223
    },
    "execution": {
     "iopub.execute_input": "2024-02-14T23:11:52.478508Z",
     "iopub.status.busy": "2024-02-14T23:11:52.478274Z",
     "iopub.status.idle": "2024-02-14T23:11:52.484697Z",
     "shell.execute_reply": "2024-02-14T23:11:52.484245Z",
     "shell.execute_reply.started": "2024-02-14T23:11:52.478490Z"
    },
    "id": "89face90-d187-4885-a695-12fbf7d87541",
    "outputId": "0d34c47d-f267-4a48-edc6-3a70577410d3",
    "tags": []
   },
   "outputs": [],
   "source": [
    "sample_submission_df.head()"
   ]
  },
  {
   "cell_type": "code",
   "execution_count": null,
   "id": "8ae27591",
   "metadata": {},
   "outputs": [],
   "source": [
    "sample_submission_df.shape"
   ]
  },
  {
   "cell_type": "markdown",
   "id": "1qVgADkI1MnS",
   "metadata": {
    "id": "1qVgADkI1MnS"
   },
   "source": [
    "Для тестовой выборки будем использовать только последний месяц"
   ]
  },
  {
   "cell_type": "code",
   "execution_count": null,
   "id": "9bf790af-ed40-40bd-8cd2-196246f8856f",
   "metadata": {
    "execution": {
     "iopub.execute_input": "2024-02-14T23:11:52.698734Z",
     "iopub.status.busy": "2024-02-14T23:11:52.698456Z",
     "iopub.status.idle": "2024-02-14T23:11:52.791541Z",
     "shell.execute_reply": "2024-02-14T23:11:52.790882Z",
     "shell.execute_reply.started": "2024-02-14T23:11:52.698714Z"
    },
    "id": "9bf790af-ed40-40bd-8cd2-196246f8856f",
    "tags": []
   },
   "outputs": [],
   "source": [
    "last_m_test_df = test_df[test_df[\"date\"] == \"month_6\"]\n",
    "last_m_test_df = last_m_test_df.drop([\"id\", \"date\"], axis=1)"
   ]
  },
  {
   "cell_type": "code",
   "execution_count": null,
   "id": "5585fd22-3b4f-44f5-a673-777fec4fedc5",
   "metadata": {
    "execution": {
     "iopub.execute_input": "2024-02-14T23:11:52.813319Z",
     "iopub.status.busy": "2024-02-14T23:11:52.813067Z",
     "iopub.status.idle": "2024-02-14T23:12:01.288281Z",
     "shell.execute_reply": "2024-02-14T23:12:01.287566Z",
     "shell.execute_reply.started": "2024-02-14T23:11:52.813300Z"
    },
    "id": "5585fd22-3b4f-44f5-a673-777fec4fedc5",
    "tags": []
   },
   "outputs": [],
   "source": [
    "test_pred_proba = model.predict_proba(last_m_test_df)\n",
    "test_pred_proba_df = pd.DataFrame(test_pred_proba, columns=model.classes_)\n",
    "sorted_classes = sorted(test_pred_proba_df.columns.to_list())\n",
    "test_pred_proba_df = test_pred_proba_df[sorted_classes]"
   ]
  },
  {
   "cell_type": "code",
   "execution_count": null,
   "id": "xUa5e3c4UcSe",
   "metadata": {
    "colab": {
     "base_uri": "https://localhost:8080/"
    },
    "id": "xUa5e3c4UcSe",
    "outputId": "dbfc0bd8-61c2-44c5-f56c-8031950cf2e3"
   },
   "outputs": [],
   "source": [
    "test_pred_proba_df.shape"
   ]
  },
  {
   "cell_type": "code",
   "execution_count": null,
   "id": "QqDRm_FB1oWF",
   "metadata": {
    "colab": {
     "base_uri": "https://localhost:8080/",
     "height": 201
    },
    "id": "QqDRm_FB1oWF",
    "outputId": "19fec5f6-7403-48db-c49a-e9b30f481e14"
   },
   "outputs": [],
   "source": [
    "test_pred_proba_df.head(2)"
   ]
  },
  {
   "cell_type": "code",
   "execution_count": null,
   "id": "a6fbe390-7b56-45a9-8e5b-ab43f9bb7dfc",
   "metadata": {
    "execution": {
     "iopub.execute_input": "2024-02-14T23:12:01.294283Z",
     "iopub.status.busy": "2024-02-14T23:12:01.293888Z",
     "iopub.status.idle": "2024-02-14T23:12:01.382141Z",
     "shell.execute_reply": "2024-02-14T23:12:01.381647Z",
     "shell.execute_reply.started": "2024-02-14T23:12:01.294266Z"
    },
    "id": "a6fbe390-7b56-45a9-8e5b-ab43f9bb7dfc",
    "tags": []
   },
   "outputs": [],
   "source": [
    "sample_submission_df[sorted_classes] = test_pred_proba_df\n",
    "sample_submission_df.to_csv(\"baseline_submission.csv\", index=False)"
   ]
  },
  {
   "cell_type": "code",
   "execution_count": null,
   "id": "8cc4dae8",
   "metadata": {},
   "outputs": [],
   "source": []
  }
 ],
 "metadata": {
  "colab": {
   "provenance": []
  },
  "kernelspec": {
   "display_name": "Python 3",
   "language": "python",
   "name": "python3"
  },
  "language_info": {
   "codemirror_mode": {
    "name": "ipython",
    "version": 3
   },
   "file_extension": ".py",
   "mimetype": "text/x-python",
   "name": "python",
   "nbconvert_exporter": "python",
   "pygments_lexer": "ipython3",
   "version": "3.11.5"
  }
 },
 "nbformat": 4,
 "nbformat_minor": 5
}
